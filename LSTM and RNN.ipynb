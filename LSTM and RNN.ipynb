{
  "cells": [
    {
      "cell_type": "code",
      "execution_count": 1,
      "metadata": {
        "colab": {
          "base_uri": "https://localhost:8080/"
        },
        "id": "eceumrMssDrx",
        "outputId": "d791a64b-686e-46b5-ae7e-e4bb61b3699c"
      },
      "outputs": [
        {
          "name": "stdout",
          "output_type": "stream",
          "text": [
            "Unique characters: 44\n"
          ]
        }
      ],
      "source": [
        "import torch\n",
        "import torch.nn as nn\n",
        "import torch.optim as optim\n",
        "from torch.utils.data import Dataset, DataLoader\n",
        "import string\n",
        "\n",
        "# Load and clean the text\n",
        "with open(\"hamlet.txt\", \"r\", encoding=\"utf-8\") as f:\n",
        "    text = f.read().lower()\n",
        "\n",
        "# Keep only printable ASCII characters\n",
        "text = ''.join([c for c in text if c in string.printable])\n",
        "chars = sorted(list(set(text)))\n",
        "vocab_size = len(chars)\n",
        "print(f\"Unique characters: {vocab_size}\")\n",
        "\n",
        "# Char to index mappings\n",
        "char2idx = {ch: i for i, ch in enumerate(chars)}\n",
        "idx2char = {i: ch for ch, i in char2idx.items()}\n",
        "\n",
        "# Encode the entire text\n",
        "encoded_text = [char2idx[c] for c in text]\n",
        "\n",
        "# Hyperparameters\n",
        "SEQ_LENGTH = 100\n",
        "BATCH_SIZE = 64\n",
        "HIDDEN_SIZE = 256\n",
        "EMBED_DIM = 128\n",
        "EPOCHS = 10\n",
        "LR = 0.002\n",
        "\n",
        "# Dataset preparation\n",
        "class TextDataset(Dataset):\n",
        "    def __init__(self, data, seq_len):\n",
        "        self.data = data\n",
        "        self.seq_len = seq_len\n",
        "\n",
        "    def __len__(self):\n",
        "        return len(self.data) - self.seq_len\n",
        "\n",
        "    def __getitem__(self, idx):\n",
        "        seq = torch.tensor(self.data[idx:idx+self.seq_len])\n",
        "        target = torch.tensor(self.data[idx+1:idx+self.seq_len+1])\n",
        "        return seq, target\n",
        "\n",
        "dataset = TextDataset(encoded_text, SEQ_LENGTH)\n",
        "dataloader = DataLoader(dataset, batch_size=BATCH_SIZE, shuffle=True)\n",
        "\n",
        "# LSTM Model\n",
        "class CharLSTM(nn.Module):\n",
        "    def __init__(self, vocab_size, embed_dim, hidden_size):\n",
        "        super(CharLSTM, self).__init__()\n",
        "        self.embedding = nn.Embedding(vocab_size, embed_dim)\n",
        "        self.lstm = nn.LSTM(embed_dim, hidden_size, batch_first=True)\n",
        "        self.fc = nn.Linear(hidden_size, vocab_size)\n",
        "\n",
        "    def forward(self, x, hidden=None):\n",
        "        x = self.embedding(x)\n",
        "        output, hidden = self.lstm(x, hidden)\n",
        "        logits = self.fc(output)\n",
        "        return logits, hidden\n",
        "\n",
        "# GRU Model\n",
        "class CharGRU(nn.Module):\n",
        "    def __init__(self, vocab_size, embed_dim, hidden_size):\n",
        "        super(CharGRU, self).__init__()\n",
        "        self.embedding = nn.Embedding(vocab_size, embed_dim)\n",
        "        self.gru = nn.GRU(embed_dim, hidden_size, batch_first=True)\n",
        "        self.fc = nn.Linear(hidden_size, vocab_size)\n",
        "\n",
        "    def forward(self, x, hidden=None):\n",
        "        x = self.embedding(x)\n",
        "        output, hidden = self.gru(x, hidden)\n",
        "        logits = self.fc(output)\n",
        "        return logits, hidden\n",
        "\n",
        "# Training function\n",
        "def train(model, name):\n",
        "    device = torch.device(\"cuda\" if torch.cuda.is_available() else \"cpu\")\n",
        "    model.to(device)\n",
        "    optimizer = optim.Adam(model.parameters(), lr=LR)\n",
        "    criterion = nn.CrossEntropyLoss()\n",
        "\n",
        "    for epoch in range(EPOCHS):\n",
        "        total_loss = 0\n",
        "        for x_batch, y_batch in dataloader:\n",
        "            x_batch, y_batch = x_batch.to(device), y_batch.to(device)\n",
        "\n",
        "            optimizer.zero_grad()\n",
        "            output, _ = model(x_batch)\n",
        "            loss = criterion(output.view(-1, vocab_size), y_batch.view(-1))\n",
        "            loss.backward()\n",
        "            optimizer.step()\n",
        "\n",
        "            total_loss += loss.item()\n",
        "        print(f\"[{name}] Epoch {epoch+1}/{EPOCHS}, Loss: {total_loss/len(dataloader):.4f}\")\n",
        "\n"
      ]
    },
    {
      "cell_type": "code",
      "execution_count": 2,
      "metadata": {},
      "outputs": [],
      "source": [
        "import pickle\n",
        "\n",
        "with open(\"vocab.pkl\", \"wb\") as f:\n",
        "    pickle.dump((chars, char2idx, idx2char), f)\n"
      ]
    },
    {
      "cell_type": "code",
      "execution_count": 3,
      "metadata": {
        "colab": {
          "base_uri": "https://localhost:8080/"
        },
        "id": "f9YnSC6RsqXg",
        "outputId": "3185cce0-fa7a-4f72-f66a-900c8a747e84"
      },
      "outputs": [
        {
          "name": "stdout",
          "output_type": "stream",
          "text": [
            "[LSTM] Epoch 1/10, Loss: 1.1616\n",
            "[LSTM] Epoch 2/10, Loss: 0.5989\n",
            "[LSTM] Epoch 3/10, Loss: 0.4568\n",
            "[LSTM] Epoch 4/10, Loss: 0.3981\n",
            "[LSTM] Epoch 5/10, Loss: 0.3670\n",
            "[LSTM] Epoch 6/10, Loss: 0.3475\n",
            "[LSTM] Epoch 7/10, Loss: 0.3334\n",
            "[LSTM] Epoch 8/10, Loss: 0.3221\n",
            "[LSTM] Epoch 9/10, Loss: 0.3136\n",
            "[LSTM] Epoch 10/10, Loss: 0.3069\n"
          ]
        }
      ],
      "source": [
        "# Train LSTM\n",
        "lstm_model = CharLSTM(vocab_size, EMBED_DIM, HIDDEN_SIZE)\n",
        "train(lstm_model, \"LSTM\")\n"
      ]
    },
    {
      "cell_type": "code",
      "execution_count": 4,
      "metadata": {
        "colab": {
          "base_uri": "https://localhost:8080/"
        },
        "id": "BZxNORKbsojG",
        "outputId": "09fc151a-4556-4399-85bd-570234a6e762"
      },
      "outputs": [
        {
          "name": "stdout",
          "output_type": "stream",
          "text": [
            "[GRU] Epoch 1/10, Loss: 1.0817\n",
            "[GRU] Epoch 2/10, Loss: 0.6991\n",
            "[GRU] Epoch 3/10, Loss: 0.6142\n",
            "[GRU] Epoch 4/10, Loss: 0.5670\n",
            "[GRU] Epoch 5/10, Loss: 0.5351\n",
            "[GRU] Epoch 6/10, Loss: 0.5124\n",
            "[GRU] Epoch 7/10, Loss: 0.4959\n",
            "[GRU] Epoch 8/10, Loss: 0.4810\n",
            "[GRU] Epoch 9/10, Loss: 0.4696\n",
            "[GRU] Epoch 10/10, Loss: 0.4604\n"
          ]
        }
      ],
      "source": [
        "\n",
        "# Train GRU\n",
        "gru_model = CharGRU(vocab_size, EMBED_DIM, HIDDEN_SIZE)\n",
        "train(gru_model, \"GRU\")"
      ]
    },
    {
      "cell_type": "code",
      "execution_count": 5,
      "metadata": {
        "id": "Z6zQGv8Ruikt"
      },
      "outputs": [],
      "source": [
        "def generate_text(model, seed_text, length=200):\n",
        "    model.eval()\n",
        "    device = next(model.parameters()).device\n",
        "    input_seq = torch.tensor([char2idx.get(c, 0) for c in seed_text.lower()], dtype=torch.long).unsqueeze(0).to(device)\n",
        "    hidden = None\n",
        "    result = seed_text\n",
        "\n",
        "    for _ in range(length):\n",
        "        with torch.no_grad():\n",
        "            output, hidden = model(input_seq[:, -SEQ_LENGTH:], hidden)\n",
        "            probs = torch.softmax(output[:, -1, :], dim=-1)\n",
        "            predicted_idx = torch.multinomial(probs, num_samples=1).item()\n",
        "            result += idx2char[predicted_idx]\n",
        "            input_seq = torch.cat([input_seq, torch.tensor([[predicted_idx]], device=device)], dim=1)\n",
        "\n",
        "    return result\n"
      ]
    },
    {
      "cell_type": "code",
      "execution_count": 6,
      "metadata": {
        "colab": {
          "base_uri": "https://localhost:8080/"
        },
        "id": "o3dSjSo-uu41",
        "outputId": "3a669d72-bac5-4fef-841a-79051515c996"
      },
      "outputs": [
        {
          "name": "stdout",
          "output_type": "stream",
          "text": [
            "to be, or not to be a flowers are our king,\n",
            "to sleepe the consonanca. who is that they knew withall\n",
            "\n",
            "   hora. he did loue, my lord?\n",
            "  ham. oh wonderfull!\n",
            "  hor. good frame the water habite of encounter, a better. mother, man deare this infected,\n",
            "thy loues, friends to his mothers must be so,\n",
            "hamlet, my noble father sel\n",
            "hamlet. but if you now speake: but good euen sir\n",
            "\n",
            "   ham. from him. 'tis very shall\n",
            "not reuerfections in his paintment with his life, a puffes in his\n",
            "reuionings dismantled watchment, did out\n",
            "the lings and polition of death, a very well akenstand knees, and all that we haue seene\n",
            "from my sword, that is not\n"
          ]
        }
      ],
      "source": [
        "print(generate_text(lstm_model, \"to be, or not to be\", 300))\n",
        "print(generate_text(gru_model, \"hamlet\", 300))"
      ]
    },
    {
      "cell_type": "code",
      "execution_count": 7,
      "metadata": {
        "id": "w32INJLBvZCJ"
      },
      "outputs": [],
      "source": [
        "# Define save paths\n",
        "lstm_save_path = \"lstm_model.pth\"\n",
        "gru_save_path = \"gru_model.pth\"\n",
        "\n",
        "\n",
        "torch.save(lstm_model.state_dict(), lstm_save_path)\n",
        "torch.save(gru_model.state_dict(), gru_save_path)"
      ]
    }
  ],
  "metadata": {
    "accelerator": "GPU",
    "colab": {
      "gpuType": "T4",
      "provenance": []
    },
    "kernelspec": {
      "display_name": "myenv",
      "language": "python",
      "name": "python3"
    },
    "language_info": {
      "codemirror_mode": {
        "name": "ipython",
        "version": 3
      },
      "file_extension": ".py",
      "mimetype": "text/x-python",
      "name": "python",
      "nbconvert_exporter": "python",
      "pygments_lexer": "ipython3",
      "version": "3.11.13"
    }
  },
  "nbformat": 4,
  "nbformat_minor": 0
}
