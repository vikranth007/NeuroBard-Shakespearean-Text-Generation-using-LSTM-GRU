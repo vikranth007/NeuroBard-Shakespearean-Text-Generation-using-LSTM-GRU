{
  "nbformat": 4,
  "nbformat_minor": 0,
  "metadata": {
    "colab": {
      "provenance": [],
      "gpuType": "T4"
    },
    "kernelspec": {
      "name": "python3",
      "display_name": "Python 3"
    },
    "language_info": {
      "name": "python"
    },
    "accelerator": "GPU"
  },
  "cells": [
    {
      "cell_type": "markdown",
      "source": [
        "## Load IMDB Dataset (from Keras)"
      ],
      "metadata": {
        "id": "p012dpwohkR_"
      }
    },
    {
      "cell_type": "code",
      "execution_count": 1,
      "metadata": {
        "id": "rUx5IuneO9Hk"
      },
      "outputs": [],
      "source": [
        "from tensorflow.keras.datasets import imdb\n",
        "from tensorflow.keras.preprocessing.sequence import pad_sequences\n",
        "import torch\n",
        "from torch.utils.data import DataLoader, Dataset\n",
        "import torch.nn as nn"
      ]
    },
    {
      "cell_type": "code",
      "source": [
        "# parameters\n",
        "\n",
        "vocab_size = 10000\n",
        "max_len = 500\n",
        "\n",
        "# Load the dataset\n",
        "\n",
        "(X_train,y_train), (X_test, y_test) = imdb.load_data(num_words=vocab_size)"
      ],
      "metadata": {
        "colab": {
          "base_uri": "https://localhost:8080/"
        },
        "id": "Bw8Ogp4pgkoC",
        "outputId": "df5578a0-a843-4cf3-e8f8-ceb1e4ffdb5c"
      },
      "execution_count": 2,
      "outputs": [
        {
          "output_type": "stream",
          "name": "stdout",
          "text": [
            "Downloading data from https://storage.googleapis.com/tensorflow/tf-keras-datasets/imdb.npz\n",
            "\u001b[1m17464789/17464789\u001b[0m \u001b[32m━━━━━━━━━━━━━━━━━━━━\u001b[0m\u001b[37m\u001b[0m \u001b[1m0s\u001b[0m 0us/step\n"
          ]
        }
      ]
    },
    {
      "cell_type": "code",
      "source": [
        "X_train = pad_sequences(X_train,maxlen=max_len, padding='post',truncating='post')\n",
        "X_test = pad_sequences(X_test,maxlen=max_len, padding='post',truncating='post')"
      ],
      "metadata": {
        "id": "lVHPglzUgkqW"
      },
      "execution_count": 3,
      "outputs": []
    },
    {
      "cell_type": "markdown",
      "source": [
        "##  PyTorch Dataset and DataLoader"
      ],
      "metadata": {
        "id": "QpD3veLIhoru"
      }
    },
    {
      "cell_type": "code",
      "source": [
        "class IMDBDataset(Dataset):\n",
        "  def __init__(self, texts, labels):\n",
        "    self.texts = torch.LongTensor(texts)\n",
        "    self.labels = torch.FloatTensor(labels)\n",
        "\n",
        "  def __len__(self):\n",
        "    return len(self.labels)\n",
        "\n",
        "  def __getitem__(self, idx):\n",
        "    return self.texts[idx], self.labels[idx]"
      ],
      "metadata": {
        "id": "QCDJmO9Ugks_"
      },
      "execution_count": 4,
      "outputs": []
    },
    {
      "cell_type": "code",
      "source": [
        "## DataLoader\n",
        "\n",
        "train_data = IMDBDataset(X_train, y_train)\n",
        "test_data = IMDBDataset(X_test, y_test)\n",
        "\n",
        "train_loader = DataLoader(train_data, batch_size=64, shuffle=True)\n",
        "\n",
        "test_loader = DataLoader(test_data, batch_size=64, shuffle=False)"
      ],
      "metadata": {
        "id": "lx4hPEVcgkvo"
      },
      "execution_count": 5,
      "outputs": []
    },
    {
      "cell_type": "markdown",
      "source": [
        "## Define the BiLSTM Model"
      ],
      "metadata": {
        "id": "vzsRwfccivXV"
      }
    },
    {
      "cell_type": "code",
      "source": [
        "class LSTM(nn.Module):\n",
        "  def __init__(self,vocab_size, embed_dim, hidden_dim):\n",
        "    super(LSTM, self).__init__()\n",
        "    self.embedding = nn.Embedding(vocab_size, embed_dim)\n",
        "    self.lstm = nn.LSTM(embed_dim, hidden_dim,batch_first=True)\n",
        "    self.fc = nn.Linear(hidden_dim, 1)\n",
        "\n",
        "  def forward(self,x):\n",
        "    x = self.embedding(x)\n",
        "    output, _ = self.lstm(x)\n",
        "    last_hidden = output[:,-1,:] # last time step\n",
        "    out = self.fc(last_hidden)\n",
        "    return torch.sigmoid(out).squeeze(1)"
      ],
      "metadata": {
        "id": "cqOKtwnJitFF"
      },
      "execution_count": 6,
      "outputs": []
    },
    {
      "cell_type": "markdown",
      "source": [
        "## ⚙️ Model Initialization\n"
      ],
      "metadata": {
        "id": "8WHrXckQkb87"
      }
    },
    {
      "cell_type": "code",
      "source": [
        "device = \"cuda\" if torch.cuda.is_available() else \"cpu\"\n",
        "\n",
        "model_1 = LSTM(vocab_size=vocab_size, embed_dim=128, hidden_dim=64).to(device)\n",
        "\n",
        "loss_fn = nn.BCELoss()\n",
        "\n",
        "optimizer = torch.optim.Adam(model_1.parameters(),lr=0.001)"
      ],
      "metadata": {
        "id": "yHy7kpVLitHh"
      },
      "execution_count": 7,
      "outputs": []
    },
    {
      "cell_type": "markdown",
      "source": [
        "## Training and Evaluation Functions"
      ],
      "metadata": {
        "id": "KeGPdO2lkkpC"
      }
    },
    {
      "cell_type": "code",
      "source": [
        "def train(model,dataloader):\n",
        "  model.train()\n",
        "  total_loss = 0\n",
        "\n",
        "  for x, y in dataloader:\n",
        "    x, y = x.to(device), y.to(device)\n",
        "\n",
        "    outputs = model(x)\n",
        "    loss = loss_fn(outputs, y)\n",
        "    optimizer.zero_grad()\n",
        "    loss.backward()\n",
        "    optimizer.step()\n",
        "\n",
        "    total_loss += loss.item()\n",
        "\n",
        "  return total_loss / len(dataloader)"
      ],
      "metadata": {
        "id": "R4vPvZI2itK7"
      },
      "execution_count": 8,
      "outputs": []
    },
    {
      "cell_type": "code",
      "source": [
        "def evaluate(model, dataloader):\n",
        "  model.eval()\n",
        "\n",
        "  correct, total = 0, 0\n",
        "\n",
        "  with torch.no_grad():\n",
        "    for x, y in dataloader:\n",
        "      x, y = x.to(device), y.to(device)\n",
        "\n",
        "      outputs = model(x)\n",
        "      preds = (outputs > 0.5).float()\n",
        "\n",
        "      correct += (preds == y).sum().item()\n",
        "      total += y.size(0)\n",
        "\n",
        "    return correct / total"
      ],
      "metadata": {
        "id": "dBtNjWa_gkzA"
      },
      "execution_count": 9,
      "outputs": []
    },
    {
      "cell_type": "code",
      "source": [
        "for epoch in range(5):\n",
        "  train_loss = train(model_1, train_loader)\n",
        "  test_acc = evaluate(model_1, test_loader)\n",
        "  print(f\"Epoch {epoch+1}, Loss : {train_loss:.4f}, Test Acc :{test_acc:.4f}\")"
      ],
      "metadata": {
        "colab": {
          "base_uri": "https://localhost:8080/"
        },
        "id": "wGyYoU-IlvPn",
        "outputId": "d82f8cee-be34-4715-bb4d-7e80ed94d64d"
      },
      "execution_count": 10,
      "outputs": [
        {
          "output_type": "stream",
          "name": "stdout",
          "text": [
            "Epoch 1, Loss : 0.6940, Test Acc :0.5042\n",
            "Epoch 2, Loss : 0.6912, Test Acc :0.4990\n",
            "Epoch 3, Loss : 0.6837, Test Acc :0.5002\n",
            "Epoch 4, Loss : 0.6649, Test Acc :0.5066\n",
            "Epoch 5, Loss : 0.6478, Test Acc :0.5068\n"
          ]
        }
      ]
    }
  ]
}